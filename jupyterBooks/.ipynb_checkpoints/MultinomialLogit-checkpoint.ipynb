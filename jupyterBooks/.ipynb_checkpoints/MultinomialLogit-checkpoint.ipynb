{
 "cells": [
  {
   "cell_type": "markdown",
   "metadata": {},
   "source": [
    "# Multinomial Logit with different R packages and iris data."
   ]
  },
  {
   "cell_type": "markdown",
   "metadata": {},
   "source": [
    "There are different `R` packages that runs pure multinomial logit regression. Below, we are going to run multinomial regression using `mlogit` and `nnet` packages on the `iris` data set.\n",
    "\n",
    "First, we load the iris data set and check the input and response variables:"
   ]
  },
  {
   "cell_type": "code",
   "execution_count": 6,
   "metadata": {
    "collapsed": false
   },
   "outputs": [
    {
     "data": {
      "text/html": [
       "<table>\n",
       "<thead><tr><th scope=col>Sepal.Length</th><th scope=col>Sepal.Width</th><th scope=col>Petal.Length</th><th scope=col>Petal.Width</th><th scope=col>Species</th></tr></thead>\n",
       "<tbody>\n",
       "\t<tr><td>5.1   </td><td>3.5   </td><td>1.4   </td><td>0.2   </td><td>setosa</td></tr>\n",
       "\t<tr><td>4.9   </td><td>3.0   </td><td>1.4   </td><td>0.2   </td><td>setosa</td></tr>\n",
       "\t<tr><td>4.7   </td><td>3.2   </td><td>1.3   </td><td>0.2   </td><td>setosa</td></tr>\n",
       "\t<tr><td>4.6   </td><td>3.1   </td><td>1.5   </td><td>0.2   </td><td>setosa</td></tr>\n",
       "\t<tr><td>5.0   </td><td>3.6   </td><td>1.4   </td><td>0.2   </td><td>setosa</td></tr>\n",
       "\t<tr><td>5.4   </td><td>3.9   </td><td>1.7   </td><td>0.4   </td><td>setosa</td></tr>\n",
       "</tbody>\n",
       "</table>\n"
      ],
      "text/latex": [
       "\\begin{tabular}{r|lllll}\n",
       " Sepal.Length & Sepal.Width & Petal.Length & Petal.Width & Species\\\\\n",
       "\\hline\n",
       "\t 5.1    & 3.5    & 1.4    & 0.2    & setosa\\\\\n",
       "\t 4.9    & 3.0    & 1.4    & 0.2    & setosa\\\\\n",
       "\t 4.7    & 3.2    & 1.3    & 0.2    & setosa\\\\\n",
       "\t 4.6    & 3.1    & 1.5    & 0.2    & setosa\\\\\n",
       "\t 5.0    & 3.6    & 1.4    & 0.2    & setosa\\\\\n",
       "\t 5.4    & 3.9    & 1.7    & 0.4    & setosa\\\\\n",
       "\\end{tabular}\n"
      ],
      "text/markdown": [
       "\n",
       "Sepal.Length | Sepal.Width | Petal.Length | Petal.Width | Species | \n",
       "|---|---|---|---|---|---|\n",
       "| 5.1    | 3.5    | 1.4    | 0.2    | setosa | \n",
       "| 4.9    | 3.0    | 1.4    | 0.2    | setosa | \n",
       "| 4.7    | 3.2    | 1.3    | 0.2    | setosa | \n",
       "| 4.6    | 3.1    | 1.5    | 0.2    | setosa | \n",
       "| 5.0    | 3.6    | 1.4    | 0.2    | setosa | \n",
       "| 5.4    | 3.9    | 1.7    | 0.4    | setosa | \n",
       "\n",
       "\n"
      ],
      "text/plain": [
       "  Sepal.Length Sepal.Width Petal.Length Petal.Width Species\n",
       "1 5.1          3.5         1.4          0.2         setosa \n",
       "2 4.9          3.0         1.4          0.2         setosa \n",
       "3 4.7          3.2         1.3          0.2         setosa \n",
       "4 4.6          3.1         1.5          0.2         setosa \n",
       "5 5.0          3.6         1.4          0.2         setosa \n",
       "6 5.4          3.9         1.7          0.4         setosa "
      ]
     },
     "metadata": {},
     "output_type": "display_data"
    }
   ],
   "source": [
    "data(iris)\n",
    "head(iris)"
   ]
  },
  {
   "cell_type": "markdown",
   "metadata": {},
   "source": [
    "`Species` is the response variable. It has three different states:"
   ]
  },
  {
   "cell_type": "code",
   "execution_count": 7,
   "metadata": {
    "collapsed": false
   },
   "outputs": [
    {
     "data": {
      "text/html": [
       "<ol class=list-inline>\n",
       "\t<li>'setosa'</li>\n",
       "\t<li>'versicolor'</li>\n",
       "\t<li>'virginica'</li>\n",
       "</ol>\n"
      ],
      "text/latex": [
       "\\begin{enumerate*}\n",
       "\\item 'setosa'\n",
       "\\item 'versicolor'\n",
       "\\item 'virginica'\n",
       "\\end{enumerate*}\n"
      ],
      "text/markdown": [
       "1. 'setosa'\n",
       "2. 'versicolor'\n",
       "3. 'virginica'\n",
       "\n",
       "\n"
      ],
      "text/plain": [
       "[1] \"setosa\"     \"versicolor\" \"virginica\" "
      ]
     },
     "metadata": {},
     "output_type": "display_data"
    }
   ],
   "source": [
    "levels(iris$Species)"
   ]
  },
  {
   "cell_type": "markdown",
   "metadata": {},
   "source": [
    "## 1. `mlogit` package:"
   ]
  },
  {
   "cell_type": "code",
   "execution_count": 8,
   "metadata": {
    "collapsed": false
   },
   "outputs": [
    {
     "data": {
      "text/plain": [
       "\n",
       "Call:\n",
       "mlogit(formula = Species ~ 1 | Sepal.Length + Sepal.Width + Petal.Length + \n",
       "    Petal.Width, data = miris, probit = F, method = \"nr\", print.level = 0)\n",
       "\n",
       "Frequencies of alternatives:\n",
       "    setosa versicolor  virginica \n",
       "   0.33333    0.33333    0.33333 \n",
       "\n",
       "nr method\n",
       "20 iterations, 0h:0m:0s \n",
       "g'(-H)^-1g = 7.97E-07 \n",
       "gradient close to zero \n",
       "\n",
       "Coefficients :\n",
       "                          Estimate Std. Error t-value Pr(>|t|)\n",
       "versicolor:(intercept)      7.7935 42638.2447  0.0002   0.9999\n",
       "virginica:(intercept)     -34.8443 42638.2524 -0.0008   0.9993\n",
       "versicolor:Sepal.Length    -7.7171 12654.9755 -0.0006   0.9995\n",
       "virginica:Sepal.Length    -10.1823 12654.9757 -0.0008   0.9994\n",
       "versicolor:Sepal.Width     -5.9009  5851.2567 -0.0010   0.9992\n",
       "virginica:Sepal.Width     -12.5818  5851.2584 -0.0022   0.9983\n",
       "versicolor:Petal.Length    14.6912  8962.8318  0.0016   0.9987\n",
       "virginica:Petal.Length     24.1206  8962.8331  0.0027   0.9979\n",
       "versicolor:Petal.Width     16.7926 14074.0631  0.0012   0.9990\n",
       "virginica:Petal.Width      35.0787 14074.0665  0.0025   0.9980\n",
       "\n",
       "Log-Likelihood: -5.9493\n",
       "McFadden R^2:  0.9639 \n",
       "Likelihood ratio test : chisq = 317.69 (p.value = < 2.22e-16)"
      ]
     },
     "metadata": {},
     "output_type": "display_data"
    }
   ],
   "source": [
    "library('mlogit')\n",
    "miris<-mlogit.data(iris,shape=\"wide\",choice=\"Species\")\n",
    "mfit<-mlogit(Species ~ 1 | Sepal.Length + Sepal.Width + Petal.Length + Petal.Width,\n",
    "             data=miris,probit=F)\n",
    "summary(mfit)\n"
   ]
  },
  {
   "cell_type": "markdown",
   "metadata": {},
   "source": [
    "The `predict` method is valid for `mlogit`object and we do a in-sample prediction to get the fitted values:"
   ]
  },
  {
   "cell_type": "code",
   "execution_count": 9,
   "metadata": {
    "collapsed": false,
    "scrolled": true
   },
   "outputs": [
    {
     "data": {
      "text/html": [
       "<table>\n",
       "<thead><tr><th scope=col>setosa</th><th scope=col>versicolor</th><th scope=col>virginica</th></tr></thead>\n",
       "<tbody>\n",
       "\t<tr><td>1           </td><td>5.171276e-13</td><td>7.986497e-40</td></tr>\n",
       "\t<tr><td>1           </td><td>4.626541e-11</td><td>3.302764e-36</td></tr>\n",
       "\t<tr><td>1           </td><td>1.531004e-11</td><td>1.831962e-37</td></tr>\n",
       "\t<tr><td>1           </td><td>1.128381e-09</td><td>2.221427e-34</td></tr>\n",
       "\t<tr><td>1           </td><td>6.201154e-13</td><td>6.282711e-40</td></tr>\n",
       "\t<tr><td>1           </td><td>1.136945e-11</td><td>3.798153e-37</td></tr>\n",
       "</tbody>\n",
       "</table>\n"
      ],
      "text/latex": [
       "\\begin{tabular}{lll}\n",
       " setosa & versicolor & virginica\\\\\n",
       "\\hline\n",
       "\t 1            & 5.171276e-13 & 7.986497e-40\\\\\n",
       "\t 1            & 4.626541e-11 & 3.302764e-36\\\\\n",
       "\t 1            & 1.531004e-11 & 1.831962e-37\\\\\n",
       "\t 1            & 1.128381e-09 & 2.221427e-34\\\\\n",
       "\t 1            & 6.201154e-13 & 6.282711e-40\\\\\n",
       "\t 1            & 1.136945e-11 & 3.798153e-37\\\\\n",
       "\\end{tabular}\n"
      ],
      "text/markdown": [
       "\n",
       "setosa | versicolor | virginica | \n",
       "|---|---|---|---|---|---|\n",
       "| 1            | 5.171276e-13 | 7.986497e-40 | \n",
       "| 1            | 4.626541e-11 | 3.302764e-36 | \n",
       "| 1            | 1.531004e-11 | 1.831962e-37 | \n",
       "| 1            | 1.128381e-09 | 2.221427e-34 | \n",
       "| 1            | 6.201154e-13 | 6.282711e-40 | \n",
       "| 1            | 1.136945e-11 | 3.798153e-37 | \n",
       "\n",
       "\n"
      ],
      "text/plain": [
       "     setosa versicolor   virginica   \n",
       "[1,] 1      5.171276e-13 7.986497e-40\n",
       "[2,] 1      4.626541e-11 3.302764e-36\n",
       "[3,] 1      1.531004e-11 1.831962e-37\n",
       "[4,] 1      1.128381e-09 2.221427e-34\n",
       "[5,] 1      6.201154e-13 6.282711e-40\n",
       "[6,] 1      1.136945e-11 3.798153e-37"
      ]
     },
     "metadata": {},
     "output_type": "display_data"
    }
   ],
   "source": [
    "pMatrix<-predict(mfit,miris)\n",
    "head(pMatrix)"
   ]
  },
  {
   "cell_type": "markdown",
   "metadata": {},
   "source": [
    "And, the confusion matrix is obtained by the function `confusionMatrix` from the `caret` package:"
   ]
  },
  {
   "cell_type": "code",
   "execution_count": 10,
   "metadata": {
    "collapsed": false
   },
   "outputs": [
    {
     "name": "stderr",
     "output_type": "stream",
     "text": [
      "Loading required package: lattice\n",
      "Loading required package: ggplot2\n"
     ]
    },
    {
     "data": {
      "text/plain": [
       "Confusion Matrix and Statistics\n",
       "\n",
       "              realVals\n",
       "fittedInSample setosa versicolor virginica\n",
       "    setosa         50          0         0\n",
       "    versicolor      0         49         1\n",
       "    virginica       0          1        49\n",
       "\n",
       "Overall Statistics\n",
       "                                          \n",
       "               Accuracy : 0.9867          \n",
       "                 95% CI : (0.9527, 0.9984)\n",
       "    No Information Rate : 0.3333          \n",
       "    P-Value [Acc > NIR] : < 2.2e-16       \n",
       "                                          \n",
       "                  Kappa : 0.98            \n",
       " Mcnemar's Test P-Value : NA              \n",
       "\n",
       "Statistics by Class:\n",
       "\n",
       "                     Class: setosa Class: versicolor Class: virginica\n",
       "Sensitivity                 1.0000            0.9800           0.9800\n",
       "Specificity                 1.0000            0.9900           0.9900\n",
       "Pos Pred Value              1.0000            0.9800           0.9800\n",
       "Neg Pred Value              1.0000            0.9900           0.9900\n",
       "Prevalence                  0.3333            0.3333           0.3333\n",
       "Detection Rate              0.3333            0.3267           0.3267\n",
       "Detection Prevalence        0.3333            0.3333           0.3333\n",
       "Balanced Accuracy           1.0000            0.9850           0.9850"
      ]
     },
     "metadata": {},
     "output_type": "display_data"
    }
   ],
   "source": [
    "library('caret')\n",
    "fittedInSample<-as.factor(apply(pMatrix, 1,  which.max))\n",
    "levels(fittedInSample)<-levels(iris$Species)\n",
    "realVals<-iris$Species\n",
    "confusionMatrix(table(fittedInSample,realVals))"
   ]
  },
  {
   "cell_type": "markdown",
   "metadata": {},
   "source": [
    "## Train and test subsets for prediction"
   ]
  },
  {
   "cell_type": "code",
   "execution_count": 123,
   "metadata": {
    "collapsed": false
   },
   "outputs": [
    {
     "data": {
      "text/plain": [
       "Confusion Matrix and Statistics\n",
       "\n",
       "            realVals\n",
       "predictTest  setosa versicolor virginica\n",
       "  setosa         14          0         0\n",
       "  versicolor      0          9         0\n",
       "  virginica       0          2        13\n",
       "\n",
       "Overall Statistics\n",
       "                                          \n",
       "               Accuracy : 0.9474          \n",
       "                 95% CI : (0.8225, 0.9936)\n",
       "    No Information Rate : 0.3684          \n",
       "    P-Value [Acc > NIR] : 7.078e-14       \n",
       "                                          \n",
       "                  Kappa : 0.9203          \n",
       " Mcnemar's Test P-Value : NA              \n",
       "\n",
       "Statistics by Class:\n",
       "\n",
       "                     Class: setosa Class: versicolor Class: virginica\n",
       "Sensitivity                 1.0000            0.8182           1.0000\n",
       "Specificity                 1.0000            1.0000           0.9200\n",
       "Pos Pred Value              1.0000            1.0000           0.8667\n",
       "Neg Pred Value              1.0000            0.9310           1.0000\n",
       "Prevalence                  0.3684            0.2895           0.3421\n",
       "Detection Rate              0.3684            0.2368           0.3421\n",
       "Detection Prevalence        0.3684            0.2368           0.3947\n",
       "Balanced Accuracy           1.0000            0.9091           0.9600"
      ]
     },
     "metadata": {},
     "output_type": "display_data"
    }
   ],
   "source": [
    "k<- floor(0.75 * nrow(iris))\n",
    "#set.seed(100)\n",
    "index_train<-sample(1:nrow(iris),k,replace=F)\n",
    "miris_train<-mlogit.data(iris[index_train,],shape=\"wide\",choice=\"Species\")\n",
    "miris_test<-mlogit.data(iris[-index_train,],shape=\"wide\",choice=\"Species\")\n",
    "\n",
    "mfit<-mlogit(Species ~ 1 | Sepal.Length + Sepal.Width + Petal.Length + Petal.Width,\n",
    "             data=miris_train)\n",
    "pMatrix_test<-predict(mfit,miris_test)\n",
    "predictTest<-as.factor(apply(pMatrix_test, 1,  which.max))\n",
    "levels(predictTest)<-levels(iris$Species)\n",
    "realVals<-iris$Species[-index_train]\n",
    "confusionMatrix(table(predictTest,realVals))"
   ]
  },
  {
   "cell_type": "code",
   "execution_count": null,
   "metadata": {
    "collapsed": true
   },
   "outputs": [],
   "source": []
  }
 ],
 "metadata": {
  "anaconda-cloud": {},
  "kernelspec": {
   "display_name": "R 3.3",
   "language": "R",
   "name": "ir33"
  },
  "language_info": {
   "codemirror_mode": "r",
   "file_extension": ".r",
   "mimetype": "text/x-r-source",
   "name": "R",
   "pygments_lexer": "r",
   "version": "3.3.2"
  }
 },
 "nbformat": 4,
 "nbformat_minor": 2
}
